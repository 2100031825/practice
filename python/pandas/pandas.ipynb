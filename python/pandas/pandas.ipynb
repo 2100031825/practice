{
 "cells": [
  {
   "cell_type": "markdown",
   "metadata": {},
   "source": [
    "pandas library"
   ]
  },
  {
   "cell_type": "code",
   "execution_count": 1,
   "metadata": {},
   "outputs": [],
   "source": [
    "import pandas as pd"
   ]
  },
  {
   "cell_type": "markdown",
   "metadata": {},
   "source": [
    "Data frame"
   ]
  },
  {
   "cell_type": "code",
   "execution_count": 2,
   "metadata": {},
   "outputs": [
    {
     "name": "stdout",
     "output_type": "stream",
     "text": [
      "    cars  passings\n",
      "0    BMW         3\n",
      "1  Volvo         7\n",
      "2   Ford         2\n"
     ]
    }
   ],
   "source": [
    "mydataset = {\n",
    "  'cars': [\"BMW\", \"Volvo\", \"Ford\"],\n",
    "  'passings': [3, 7, 2]\n",
    "}\n",
    "\n",
    "myvar = pd.DataFrame(mydataset)\n",
    "\n",
    "print(myvar)"
   ]
  },
  {
   "cell_type": "markdown",
   "metadata": {},
   "source": [
    "Series"
   ]
  },
  {
   "cell_type": "code",
   "execution_count": 3,
   "metadata": {},
   "outputs": [
    {
     "name": "stdout",
     "output_type": "stream",
     "text": [
      "0    1\n",
      "1    7\n",
      "2    2\n",
      "dtype: int64\n"
     ]
    }
   ],
   "source": [
    "a = [1, 7, 2]\n",
    "\n",
    "myvar = pd.Series(a)\n",
    "\n",
    "print(myvar)"
   ]
  },
  {
   "cell_type": "markdown",
   "metadata": {},
   "source": [
    "lables"
   ]
  },
  {
   "cell_type": "code",
   "execution_count": 4,
   "metadata": {},
   "outputs": [
    {
     "name": "stdout",
     "output_type": "stream",
     "text": [
      "1\n"
     ]
    }
   ],
   "source": [
    "print(myvar[0])"
   ]
  },
  {
   "cell_type": "code",
   "execution_count": 5,
   "metadata": {},
   "outputs": [
    {
     "name": "stdout",
     "output_type": "stream",
     "text": [
      "x    1\n",
      "y    7\n",
      "z    2\n",
      "dtype: int64\n"
     ]
    }
   ],
   "source": [
    "a = [1, 7, 2]\n",
    "\n",
    "myvar = pd.Series(a, index = [\"x\", \"y\", \"z\"])\n",
    "\n",
    "print(myvar)"
   ]
  },
  {
   "cell_type": "code",
   "execution_count": 6,
   "metadata": {},
   "outputs": [
    {
     "name": "stdout",
     "output_type": "stream",
     "text": [
      "7\n"
     ]
    }
   ],
   "source": [
    "print(myvar[\"y\"])"
   ]
  },
  {
   "cell_type": "markdown",
   "metadata": {},
   "source": [
    "keys and values"
   ]
  },
  {
   "cell_type": "code",
   "execution_count": 7,
   "metadata": {},
   "outputs": [
    {
     "name": "stdout",
     "output_type": "stream",
     "text": [
      "day1    420\n",
      "day2    380\n",
      "day3    390\n",
      "dtype: int64\n"
     ]
    }
   ],
   "source": [
    "calories = {\"day1\": 420,\n",
    "             \"day2\": 380,\n",
    "               \"day3\": 390}\n",
    "\n",
    "myvar = pd.Series(calories)\n",
    "\n",
    "print(myvar)"
   ]
  },
  {
   "cell_type": "code",
   "execution_count": 8,
   "metadata": {},
   "outputs": [
    {
     "name": "stdout",
     "output_type": "stream",
     "text": [
      "   calories  duration\n",
      "0       420        50\n",
      "1       380        40\n",
      "2       390        45\n"
     ]
    }
   ],
   "source": [
    "data = {\n",
    "  \"calories\": [420, 380, 390],\n",
    "  \"duration\": [50, 40, 45]\n",
    "}\n",
    "\n",
    "myvar = pd.DataFrame(data)\n",
    "\n",
    "print(myvar)"
   ]
  },
  {
   "cell_type": "code",
   "execution_count": null,
   "metadata": {},
   "outputs": [],
   "source": []
  },
  {
   "cell_type": "markdown",
   "metadata": {},
   "source": [
    "DATAFRAMES"
   ]
  },
  {
   "cell_type": "code",
   "execution_count": 14,
   "metadata": {},
   "outputs": [
    {
     "name": "stdout",
     "output_type": "stream",
     "text": [
      "    names  marks\n",
      "0  Monika     95\n",
      "1  Rajesh     90\n",
      "2  Harsha     97\n"
     ]
    }
   ],
   "source": [
    "data = {\n",
    "  \"names\": [\"Monika\", \"Rajesh\",\"Harsha\"],\n",
    "  \"marks\": [95, 90, 97]\n",
    "}\n",
    "\n",
    "#load data into a DataFrame object:\n",
    "df = pd.DataFrame(data)\n",
    "\n",
    "print(df) "
   ]
  },
  {
   "cell_type": "markdown",
   "metadata": {},
   "source": [
    "Locate Row"
   ]
  },
  {
   "cell_type": "code",
   "execution_count": 15,
   "metadata": {},
   "outputs": [
    {
     "name": "stdout",
     "output_type": "stream",
     "text": [
      "names    Monika\n",
      "marks        95\n",
      "Name: 0, dtype: object\n"
     ]
    }
   ],
   "source": [
    "#refer to the row index:\n",
    "df = pd.DataFrame(data)\n",
    "print(df.loc[0])"
   ]
  },
  {
   "cell_type": "code",
   "execution_count": 18,
   "metadata": {},
   "outputs": [
    {
     "name": "stdout",
     "output_type": "stream",
     "text": [
      "    names  marks\n",
      "0  Monika     95\n",
      "1  Rajesh     90\n"
     ]
    }
   ],
   "source": [
    "#use a list of indexes:\n",
    "print(df.loc[[0, 1]])"
   ]
  },
  {
   "cell_type": "markdown",
   "metadata": {},
   "source": [
    "Named Indexes"
   ]
  },
  {
   "cell_type": "code",
   "execution_count": 2,
   "metadata": {},
   "outputs": [
    {
     "name": "stdout",
     "output_type": "stream",
     "text": [
      "     names  marks\n",
      "21  Monika     95\n",
      "22  Rajesh     90\n",
      "25  Harsha     97\n"
     ]
    }
   ],
   "source": [
    "import pandas as pd\n",
    "\n",
    "data = {\n",
    "  \"names\": [\"Monika\", \"Rajesh\",\"Harsha\"],\n",
    "  \"marks\": [95, 90, 97]\n",
    "}\n",
    "df = pd.DataFrame(data, index = [\"21\", \"22\", \"25\"])\n",
    "\n",
    "print(df)"
   ]
  },
  {
   "cell_type": "markdown",
   "metadata": {},
   "source": [
    "Locate Named Indexes"
   ]
  },
  {
   "cell_type": "code",
   "execution_count": 3,
   "metadata": {},
   "outputs": [
    {
     "name": "stdout",
     "output_type": "stream",
     "text": [
      "names    Rajesh\n",
      "marks        90\n",
      "Name: 22, dtype: object\n"
     ]
    }
   ],
   "source": [
    "#refer to the named index:\n",
    "print(df.loc[\"22\"])"
   ]
  },
  {
   "cell_type": "markdown",
   "metadata": {},
   "source": [
    "Load Files Into a DataFrame"
   ]
  },
  {
   "cell_type": "code",
   "execution_count": 5,
   "metadata": {},
   "outputs": [
    {
     "name": "stdout",
     "output_type": "stream",
     "text": [
      "    rank                                title  \\\n",
      "0     18  Spider-Man: Across the Spider-Verse   \n",
      "1     32                          Oppenheimer   \n",
      "2     77                                Joker   \n",
      "3     76                    Avengers: Endgame   \n",
      "4     37                             Parasite   \n",
      "..   ...                                  ...   \n",
      "95    99                         Citizen Kane   \n",
      "96    65                   The Great Dictator   \n",
      "97    49                         Modern Times   \n",
      "98    54                          City Lights   \n",
      "99   100                                    M   \n",
      "\n",
      "                                          description  \\\n",
      "0   Miles Morales catapults across the Multiverse,...   \n",
      "1   The story of American scientist, J. Robert Opp...   \n",
      "2   A mentally troubled stand-up comedian embarks ...   \n",
      "3   After the devastating events of Avengers: Infi...   \n",
      "4   Greed and class discrimination threaten the ne...   \n",
      "..                                                ...   \n",
      "95  Following the death of publishing tycoon Charl...   \n",
      "96  Dictator Adenoid Hynkel tries to expand his em...   \n",
      "97  The Tramp struggles to live in modern industri...   \n",
      "98  With the aid of a wealthy erratic tippler, a d...   \n",
      "99  When the police in a German city are unable to...   \n",
      "\n",
      "                                   genre  rating  year  \n",
      "0   ['Animation', 'Action', 'Adventure']     8.7  2023  \n",
      "1      ['Biography', 'Drama', 'History']     8.6  2023  \n",
      "2         ['Crime', 'Drama', 'Thriller']     8.4  2019  \n",
      "3       ['Action', 'Adventure', 'Drama']     8.4  2019  \n",
      "4                  ['Drama', 'Thriller']     8.5  2019  \n",
      "..                                   ...     ...   ...  \n",
      "95                  ['Drama', 'Mystery']     8.3  1941  \n",
      "96            ['Comedy', 'Drama', 'War']     8.4  1940  \n",
      "97        ['Comedy', 'Drama', 'Romance']     8.5  1936  \n",
      "98        ['Comedy', 'Drama', 'Romance']     8.5  1931  \n",
      "99      ['Crime', 'Mystery', 'Thriller']     8.3  1931  \n",
      "\n",
      "[100 rows x 6 columns]\n"
     ]
    }
   ],
   "source": [
    "df = pd.read_csv('movie.csv')\n",
    "\n",
    "print(df) "
   ]
  }
 ],
 "metadata": {
  "kernelspec": {
   "display_name": "Python 3",
   "language": "python",
   "name": "python3"
  },
  "language_info": {
   "codemirror_mode": {
    "name": "ipython",
    "version": 3
   },
   "file_extension": ".py",
   "mimetype": "text/x-python",
   "name": "python",
   "nbconvert_exporter": "python",
   "pygments_lexer": "ipython3",
   "version": "3.11.9"
  }
 },
 "nbformat": 4,
 "nbformat_minor": 2
}
