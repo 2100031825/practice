{
 "cells": [
  {
   "cell_type": "markdown",
   "metadata": {},
   "source": [
    "Pandas - Analyzing DataFrames"
   ]
  },
  {
   "cell_type": "markdown",
   "metadata": {},
   "source": [
    "Viewing the Data"
   ]
  },
  {
   "cell_type": "code",
   "execution_count": 7,
   "metadata": {},
   "outputs": [
    {
     "name": "stdout",
     "output_type": "stream",
     "text": [
      "   rank                                title  \\\n",
      "0    18  Spider-Man: Across the Spider-Verse   \n",
      "1    32                          Oppenheimer   \n",
      "2    77                                Joker   \n",
      "3    76                    Avengers: Endgame   \n",
      "4    37                             Parasite   \n",
      "\n",
      "                                         description  \\\n",
      "0  Miles Morales catapults across the Multiverse,...   \n",
      "1  The story of American scientist, J. Robert Opp...   \n",
      "2  A mentally troubled stand-up comedian embarks ...   \n",
      "3  After the devastating events of Avengers: Infi...   \n",
      "4  Greed and class discrimination threaten the ne...   \n",
      "\n",
      "                                  genre  rating  year  \n",
      "0  ['Animation', 'Action', 'Adventure']     8.7  2023  \n",
      "1     ['Biography', 'Drama', 'History']     8.6  2023  \n",
      "2        ['Crime', 'Drama', 'Thriller']     8.4  2019  \n",
      "3      ['Action', 'Adventure', 'Drama']     8.4  2019  \n",
      "4                 ['Drama', 'Thriller']     8.5  2019  \n"
     ]
    }
   ],
   "source": [
    "import pandas as pd\n",
    "\n",
    "df=pd.read_csv('movie.csv')\n",
    "\n",
    "# print(df)\n",
    "\n",
    "#print(df.to_string())\n",
    "\n",
    "print(df.head())\n"
   ]
  },
  {
   "cell_type": "code",
   "execution_count": 8,
   "metadata": {},
   "outputs": [
    {
     "name": "stdout",
     "output_type": "stream",
     "text": [
      "    rank               title  \\\n",
      "95    99        Citizen Kane   \n",
      "96    65  The Great Dictator   \n",
      "97    49        Modern Times   \n",
      "98    54         City Lights   \n",
      "99   100                   M   \n",
      "\n",
      "                                          description  \\\n",
      "95  Following the death of publishing tycoon Charl...   \n",
      "96  Dictator Adenoid Hynkel tries to expand his em...   \n",
      "97  The Tramp struggles to live in modern industri...   \n",
      "98  With the aid of a wealthy erratic tippler, a d...   \n",
      "99  When the police in a German city are unable to...   \n",
      "\n",
      "                               genre  rating  year  \n",
      "95              ['Drama', 'Mystery']     8.3  1941  \n",
      "96        ['Comedy', 'Drama', 'War']     8.4  1940  \n",
      "97    ['Comedy', 'Drama', 'Romance']     8.5  1936  \n",
      "98    ['Comedy', 'Drama', 'Romance']     8.5  1931  \n",
      "99  ['Crime', 'Mystery', 'Thriller']     8.3  1931  \n"
     ]
    }
   ],
   "source": [
    "print(df.tail())"
   ]
  },
  {
   "cell_type": "code",
   "execution_count": 9,
   "metadata": {},
   "outputs": [
    {
     "name": "stdout",
     "output_type": "stream",
     "text": [
      "<class 'pandas.core.frame.DataFrame'>\n",
      "RangeIndex: 100 entries, 0 to 99\n",
      "Data columns (total 6 columns):\n",
      " #   Column       Non-Null Count  Dtype  \n",
      "---  ------       --------------  -----  \n",
      " 0   rank         100 non-null    int64  \n",
      " 1   title        100 non-null    object \n",
      " 2   description  100 non-null    object \n",
      " 3   genre        100 non-null    object \n",
      " 4   rating       100 non-null    float64\n",
      " 5   year         100 non-null    int64  \n",
      "dtypes: float64(1), int64(2), object(3)\n",
      "memory usage: 4.8+ KB\n",
      "None\n"
     ]
    }
   ],
   "source": [
    "print(df.info())"
   ]
  }
 ],
 "metadata": {
  "kernelspec": {
   "display_name": "Python 3",
   "language": "python",
   "name": "python3"
  },
  "language_info": {
   "codemirror_mode": {
    "name": "ipython",
    "version": 3
   },
   "file_extension": ".py",
   "mimetype": "text/x-python",
   "name": "python",
   "nbconvert_exporter": "python",
   "pygments_lexer": "ipython3",
   "version": "3.11.9"
  }
 },
 "nbformat": 4,
 "nbformat_minor": 2
}
