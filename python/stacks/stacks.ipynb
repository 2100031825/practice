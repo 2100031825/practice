{
 "cells": [
  {
   "cell_type": "markdown",
   "metadata": {},
   "source": [
    "if the necklace was originally \n",
    "1\n",
    ",\n",
    "5\n",
    ",\n",
    "3\n",
    ",\n",
    "4\n",
    ",\n",
    "2\n",
    "1,5,3,4,2 and \n",
    "k\n",
    "=\n",
    "2\n",
    "k=2, now it becomes \n",
    "3\n",
    ",\n",
    "4\n",
    ",\n",
    "2\n",
    ",\n",
    "1\n",
    ",\n",
    "5\n",
    "3,4,2,1,5\n",
    "\n",
    "\n",
    "https://www.codechef.com/practice/course/stacks-and-queues/STAQUEF/problems/NEC"
   ]
  },
  {
   "cell_type": "code",
   "execution_count": null,
   "metadata": {},
   "outputs": [],
   "source": [
    "for i in range(int(input())):\n",
    "    n,k=map(int,input().split())\n",
    "    a=list(map(int,input().split()))\n",
    "    p=[]\n",
    "    for i in range(k):\n",
    "        n=p.append(a.pop(0))\n",
    "    h=a+p\n",
    "    print(*h)"
   ]
  },
  {
   "cell_type": "markdown",
   "metadata": {},
   "source": [
    "Valid parenthesis\n",
    "https://www.codechef.com/practice/course/stacks-and-queues/STAQUEF/problems/PREP59"
   ]
  },
  {
   "cell_type": "code",
   "execution_count": null,
   "metadata": {},
   "outputs": [],
   "source": [
    "for i in range(int(input())):\n",
    "    s=input()\n",
    "    valid=[]\n",
    "    for i in s:\n",
    "        if i=='(':\n",
    "            valid.append(i)\n",
    "        else:\n",
    "            if len(valid)==0:\n",
    "                valid.append(i)\n",
    "                break\n",
    "            else:\n",
    "                valid.pop()\n",
    "    if len(valid)==0:\n",
    "        print(1)\n",
    "    else:\n",
    "        print(0)\n",
    "                "
   ]
  },
  {
   "cell_type": "markdown",
   "metadata": {},
   "source": [
    "https://leetcode.com/problems/next-greater-element-i/description/"
   ]
  },
  {
   "cell_type": "markdown",
   "metadata": {},
   "source": []
  }
 ],
 "metadata": {
  "language_info": {
   "name": "python"
  }
 },
 "nbformat": 4,
 "nbformat_minor": 2
}
